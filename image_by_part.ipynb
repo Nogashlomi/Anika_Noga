{
 "cells": [
  {
   "cell_type": "code",
   "execution_count": 1,
   "id": "17e0b560-c666-465f-b99e-0b1a9ed42314",
   "metadata": {},
   "outputs": [],
   "source": [
    "import practicalSPARQL\n",
    "import pandas as pd\n",
    "import matplotlib.pyplot as plt\n",
    "import seaborn as sns"
   ]
  },
  {
   "cell_type": "code",
   "execution_count": 2,
   "id": "228bf940-e7ab-4d21-a648-3bb4059716f0",
   "metadata": {},
   "outputs": [
    {
     "name": "stdout",
     "output_type": "stream",
     "text": [
      "--- Querying ENDPOINT: http://devmeta.sphaera.mpiwg-berlin.mpg.de/sparql ---\n"
     ]
    }
   ],
   "source": [
    "root_q = 'queries'\n",
    "root_d = 'results'\n",
    "\n",
    "# read login data\n",
    "login = pd.read_json('config_sparql.json')\n",
    "ENDPOINT = login['endpoint'][0]\n",
    "USERNAME = login['username'][0]\n",
    "PASSWORD = login['password'][0]\n",
    "\n",
    "# create sparql object\n",
    "sparql = practicalSPARQL.practicalWrapper(ENDPOINT)\n",
    "sparql.setCredentials(USERNAME, PASSWORD)\n",
    "\n",
    "print(\"--- Querying ENDPOINT: {} ---\".format(ENDPOINT))"
   ]
  },
  {
   "cell_type": "code",
   "execution_count": null,
   "id": "c1391054-3140-4809-a8c2-59bb34a28100",
   "metadata": {},
   "outputs": [],
   "source": []
  }
 ],
 "metadata": {
  "kernelspec": {
   "display_name": "Python 3 (ipykernel)",
   "language": "python",
   "name": "python3"
  },
  "language_info": {
   "codemirror_mode": {
    "name": "ipython",
    "version": 3
   },
   "file_extension": ".py",
   "mimetype": "text/x-python",
   "name": "python",
   "nbconvert_exporter": "python",
   "pygments_lexer": "ipython3",
   "version": "3.12.2"
  }
 },
 "nbformat": 4,
 "nbformat_minor": 5
}
