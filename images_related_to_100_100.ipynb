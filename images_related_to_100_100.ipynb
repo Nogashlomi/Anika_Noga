{
 "cells": [
  {
   "cell_type": "code",
   "execution_count": 2,
   "metadata": {},
   "outputs": [],
   "source": [
    "import practicalSPARQL\n",
    "import pandas as pd"
   ]
  },
  {
   "cell_type": "code",
   "execution_count": 3,
   "metadata": {},
   "outputs": [
    {
     "name": "stdout",
     "output_type": "stream",
     "text": [
      "--- Querying ENDPOINT: http://devmeta.sphaera.mpiwg-berlin.mpg.de/sparql ---\n"
     ]
    }
   ],
   "source": [
    "root_q = 'queries'\n",
    "root_d = 'results'\n",
    "\n",
    "# read login data\n",
    "login = pd.read_json('config_sparql.json')\n",
    "ENDPOINT = login['endpoint'][0]\n",
    "USERNAME = login['username'][0]\n",
    "PASSWORD = login['password'][0]\n",
    "\n",
    "# create sparql object\n",
    "sparql = practicalSPARQL.practicalWrapper(ENDPOINT)\n",
    "sparql.setCredentials(USERNAME, PASSWORD)\n",
    "\n",
    "print(\"--- Querying ENDPOINT: {} ---\".format(ENDPOINT))"
   ]
  },
  {
   "cell_type": "code",
   "execution_count": 4,
   "metadata": {},
   "outputs": [],
   "source": [
    "q = practicalSPARQL.stringify_SPARQL('query_influenced_100_104.sparql')    # select data from the ttl file as a dataframe\n",
    "df_influenced = sparql.select_as_dataframe(q) "
   ]
  },
  {
   "cell_type": "code",
   "execution_count": 5,
   "metadata": {},
   "outputs": [],
   "source": [
    "q = practicalSPARQL.stringify_SPARQL('query_part_adaptions_100_104.sparql')    # select data from the ttl file as a dataframe\n",
    "df_adaptions = sparql.select_as_dataframe(q) "
   ]
  },
  {
   "cell_type": "code",
   "execution_count": 6,
   "metadata": {},
   "outputs": [],
   "source": [
    "# all the ids of related parts/adaptions\n",
    "related_parts = list(set(list(df_adaptions.custom_identifier) + list(df_influenced.custom_identifier)))\n",
    "\n",
    "related_parts = [str(entry) for entry in related_parts]\n",
    "\n",
    "related_parts.sort()\n",
    "\n",
    "related_parts = related_parts + ['100', '104'] # add original parts"
   ]
  },
  {
   "cell_type": "code",
   "execution_count": 60,
   "metadata": {},
   "outputs": [
    {
     "data": {
      "text/plain": [
       "21238"
      ]
     },
     "execution_count": 60,
     "metadata": {},
     "output_type": "execute_result"
    }
   ],
   "source": [
    "q = practicalSPARQL.stringify_SPARQL('all_elements_with_artefacts_marked.sparql')    # select data from the ttl file as a dataframe\n",
    "elements_marked = sparql.select_as_dataframe(q) \n",
    "len(elements_marked)"
   ]
  },
  {
   "cell_type": "code",
   "execution_count": 61,
   "metadata": {},
   "outputs": [
    {
     "name": "stdout",
     "output_type": "stream",
     "text": [
      "20921\n",
      "20921\n"
     ]
    }
   ],
   "source": [
    "# sort out all images that belong to a page labeled as artefact, duplicate etc.\n",
    "\n",
    "\n",
    "elements = elements_marked[elements_marked.flag != \"true\"]\n",
    "print(len(elements))\n",
    "elements = elements.drop([\"flag\"], axis=1)\n",
    "print(len(elements))\n",
    "elements = elements.drop_duplicates(ignore_index=True)\n",
    "\n",
    "#elements.loc[elements.custom_identifier == '104']\n"
   ]
  },
  {
   "cell_type": "code",
   "execution_count": 63,
   "metadata": {},
   "outputs": [
    {
     "data": {
      "text/plain": [
       "4618"
      ]
     },
     "execution_count": 63,
     "metadata": {},
     "output_type": "execute_result"
    }
   ],
   "source": [
    "# now filter elements by their part identifier\n",
    "\n",
    "entries_to_delete = []\n",
    "\n",
    "for idx, entry in elements.iterrows():\n",
    "    if entry.custom_identifier in related_parts:\n",
    "        continue\n",
    "    else: entries_to_delete.append(idx)\n",
    "\n",
    "len(entries_to_delete)\n"
   ]
  },
  {
   "cell_type": "code",
   "execution_count": 64,
   "metadata": {},
   "outputs": [
    {
     "data": {
      "text/plain": [
       "16241"
      ]
     },
     "execution_count": 64,
     "metadata": {},
     "output_type": "execute_result"
    }
   ],
   "source": [
    "elements = elements.drop(entries_to_delete)\n",
    "len(elements)"
   ]
  },
  {
   "cell_type": "code",
   "execution_count": 65,
   "metadata": {},
   "outputs": [],
   "source": [
    "elements.to_excel(\"images_related_100_104.xlsx\")"
   ]
  },
  {
   "cell_type": "code",
   "execution_count": null,
   "metadata": {},
   "outputs": [],
   "source": []
  }
 ],
 "metadata": {
  "kernelspec": {
   "display_name": "Python 3 (ipykernel)",
   "language": "python",
   "name": "python3"
  },
  "language_info": {
   "codemirror_mode": {
    "name": "ipython",
    "version": 3
   },
   "file_extension": ".py",
   "mimetype": "text/x-python",
   "name": "python",
   "nbconvert_exporter": "python",
   "pygments_lexer": "ipython3",
   "version": "3.12.2"
  },
  "vscode": {
   "interpreter": {
    "hash": "c393802f60a7a78aeca09669bab19f5fda1dea818abf5b8b1ad1df6cd7729586"
   }
  }
 },
 "nbformat": 4,
 "nbformat_minor": 4
}
